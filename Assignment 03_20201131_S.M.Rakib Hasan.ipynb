{
 "cells": [
  {
   "cell_type": "code",
   "execution_count": 1,
   "metadata": {},
   "outputs": [
    {
     "name": "stdout",
     "output_type": "stream",
     "text": [
      "Integer\n",
      "1234\n",
      "=====================\n",
      "String\n",
      "Hello\n",
      "=====================\n",
      "Float\n",
      "4.0\n"
     ]
    }
   ],
   "source": [
    "#Write your class code here\n",
    "class DataType:\n",
    "    def __init__(self,name,value):\n",
    "        self.name = name\n",
    "        self.value = value\n",
    "data_type1 = DataType('Integer', 1234)\n",
    "print(data_type1.name)\n",
    "print(data_type1.value) \n",
    "print('=====================')\n",
    "data_type2 = DataType('String', 'Hello')\n",
    "print(data_type2.name)\n",
    "print(data_type2.value) \n",
    "print('=====================')\n",
    "data_type3 = DataType('Float', 4.0)\n",
    "print(data_type3.name)\n",
    "print(data_type3.value)\n"
   ]
  },
  {
   "cell_type": "code",
   "execution_count": 15,
   "metadata": {},
   "outputs": [
    {
     "name": "stdout",
     "output_type": "stream",
     "text": [
      "Name of this flower: Rose\n",
      "Color of this flower: Red\n",
      "Number of petal: 6\n",
      "=====================\n",
      "Name of this flower: Orchid\n",
      "Color of this flower: Purple\n",
      "Number of petal: 4\n",
      "Address of flower1: <__main__.Flower object at 0x0000023B98524880>\n",
      "Address of flower2: <__main__.Flower object at 0x0000023B985163A0>\n",
      "They are different\n"
     ]
    }
   ],
   "source": [
    "#Design a class called Flower with the instance variables so that after executing the following line of code the desired result shown in the output box will be printed.\n",
    "#[You are not allowed to change the code below]\n",
    "#Write your class code here\n",
    "class Flower():\n",
    "    def __init__(self):\n",
    "        self.name = \"\"\n",
    "        self.color = \"\"\n",
    "        self.num_of_petal = 0\n",
    "\n",
    "\n",
    "flower1 = Flower()\n",
    "flower1.name=\"Rose\"\n",
    "flower1.color=\"Red\"\n",
    "flower1.num_of_petal=6\n",
    "print(\"Name of this flower:\", flower1.name)\n",
    "print(\"Color of this flower:\",flower1.color)\n",
    "print(\"Number of petal:\",flower1.num_of_petal)\n",
    "print(\"=====================\")\n",
    "flower2 = Flower()\n",
    "flower2.name=\"Orchid\"\n",
    "flower2.color=\"Purple\"\n",
    "flower2.num_of_petal=4\n",
    "print(\"Name of this flower:\",flower2.name)\n",
    "print(\"Color of this flower:\",flower2.color)\n",
    "print (\"Number of petal:\",flower2. num_of_petal)\n",
    "\n",
    "#Write the code for subtask 2 and 3 here\n",
    "#id1 = (id(flower1))\n",
    "#id2 = (id(flower2))\n",
    "print(\"Address of flower1:\", flower1)\n",
    "print(\"Address of flower2:\", flower2)\n",
    "\n",
    "if flower1 == flower2:\n",
    "    print(\"They are same\")\n",
    "else:\n",
    "    print(\"They are different\")\n"
   ]
  },
  {
   "cell_type": "code",
   "execution_count": 1,
   "metadata": {},
   "outputs": [
    {
     "name": "stdout",
     "output_type": "stream",
     "text": [
      "Part 1\n",
      "Name of President:  Aladeen\n",
      "Designation:  President Prime Minister Admiral General\n",
      "Number of wife:  100\n",
      "If he/she is a dictator:  True\n",
      "Part 2\n",
      "Name of President:  Donald Trump\n",
      "Designation:  President\n",
      "Number of wife:  1\n",
      "If he/she is a dictator:  False\n"
     ]
    }
   ],
   "source": [
    "'''A class has been designed for this question. Solve the questions to get the desired result as shown in the output box.\n",
    "[You are not allowed to change the code below]'''\n",
    "class Wadiya():\n",
    "    def __init__(self):\n",
    "        self.name = 'Aladeen'\n",
    "        self.designation = 'President Prime Minister Admiral General'\n",
    "        self.num_of_wife = 100\n",
    "        self.dictator = True\n",
    "wadiya = Wadiya()\n",
    "print(\"Part 1\")\n",
    "print(\"Name of President: \",wadiya.name)\n",
    "print(\"Designation: \",wadiya.designation)\n",
    "print(\"Number of wife: \",wadiya.num_of_wife)\n",
    "print(\"If he/she is a dictator: \",wadiya.dictator)\n",
    "wadiya = Wadiya()\n",
    "wadiya.name = \"Donald Trump\"\n",
    "wadiya.designation = \"President\"\n",
    "wadiya.num_of_wife = 1\n",
    "wadiya.dictator = False\n",
    "print(\"Part 2\")\n",
    "print(\"Name of President: \",wadiya.name)\n",
    "print(\"Designation: \",wadiya.designation)\n",
    "print(\"Number of wife: \",wadiya.num_of_wife)\n",
    "print(\"If he/she is a dictator: \",wadiya.dictator)\n"
   ]
  },
  {
   "cell_type": "code",
   "execution_count": 17,
   "metadata": {},
   "outputs": [
    {
     "name": "stdout",
     "output_type": "stream",
     "text": [
      "Heath Ledger\n",
      "Mind Game\n",
      "False\n",
      "=====================\n",
      "Joaquin Phoenix\n",
      "Laughing out Loud\n",
      "True\n",
      "=====================\n",
      "different\n",
      "same\n",
      "2) The first if/else block deals with the two different objects, j1 and j2. As they are not stored in the same address, so the if block fails and the else block prints 'different'.\n",
      "3) As the value of name variable of object j2 was changed to 'Heath Ledger', it became similar to the value of name variable of object j1. Being same strings, the if block is executed and prints 'same'.\n"
     ]
    }
   ],
   "source": [
    "class Joker:\n",
    "    def __init__(self,name,power,is_he_psycho):\n",
    "        self.name = name\n",
    "        self.power = power\n",
    "        self.is_he_psycho = is_he_psycho\n",
    "\n",
    "\n",
    "j1 = Joker('Heath Ledger', 'Mind Game', False)\n",
    "print(j1.name) \n",
    "print(j1.power) \n",
    "print(j1.is_he_psycho) \n",
    "print(\"=====================\") \n",
    "j2 = Joker('Joaquin Phoenix', 'Laughing out Loud', True) \n",
    "print(j2.name) \n",
    "print(j2.power) \n",
    "print(j2.is_he_psycho) \n",
    "print(\"=====================\") \n",
    "\n",
    "if j1 == j2:\n",
    "    print('same') \n",
    "else: \n",
    "    print('different') \n",
    "j2.name = 'Heath Ledger' \n",
    "if j1.name == j2.name: \n",
    "    print('same') \n",
    "else: \n",
    "    print('different')\n",
    "    \n",
    "    \n",
    "print(\"2) The first if/else block deals with the two different objects, j1 and j2. As they are not stored in the same address, so the if block fails and the else block prints 'different'.\")\n",
    "print(\"3) As the value of name variable of object j2 was changed to 'Heath Ledger', it became similar to the value of name variable of object j1. Being same strings, the if block is executed and prints 'same'.\")"
   ]
  },
  {
   "cell_type": "code",
   "execution_count": 5,
   "metadata": {},
   "outputs": [
    {
     "name": "stdout",
     "output_type": "stream",
     "text": [
      "=======Team 1=======\n",
      "Pokemon 1: pikachu 90\n",
      "Pokemon 2: charmander 60\n",
      "Combined Power: 1500\n",
      "=======Team 2=======\n",
      "Pokemon 1: bulbasaur 80\n",
      "Pokemon 2: squirtle 70\n",
      "Combined Power: 1350\n"
     ]
    }
   ],
   "source": [
    "class Pokemon:\n",
    "    def __init__(self,pokemon1_name,pokemon2_name,pokemon1_power,pokemon2_power,damage_rate):\n",
    "        self.pokemon1_name = pokemon1_name\n",
    "        self.pokemon2_name = pokemon2_name\n",
    "        self.pokemon1_power = pokemon1_power\n",
    "        self.pokemon2_power = pokemon2_power\n",
    "        self.damage_rate = damage_rate\n",
    "\n",
    "\n",
    "team_pika = Pokemon('pikachu', 'charmander', 90, 60, 10) \n",
    "print('=======Team 1=======') \n",
    "print('Pokemon 1:',team_pika.pokemon1_name, team_pika.pokemon1_power) \n",
    "print('Pokemon 2:',team_pika.pokemon2_name, team_pika.pokemon2_power) \n",
    "pika_combined_power = (team_pika.pokemon1_power + team_pika.pokemon2_power) * team_pika.damage_rate \n",
    "print('Combined Power:', pika_combined_power)\n",
    "\n",
    "team_bulb = Pokemon(\"bulbasaur\",\"squirtle\",80,70,9)\n",
    "print('=======Team 2=======')\n",
    "print('Pokemon 1:',team_bulb.pokemon1_name, team_bulb.pokemon1_power)\n",
    "print('Pokemon 2:',team_bulb.pokemon2_name, team_bulb.pokemon2_power)\n",
    "bulb_combined_power = (team_bulb.pokemon1_power + team_bulb.pokemon2_power) * team_bulb.damage_rate\n",
    "print('Combined Power:', bulb_combined_power)\n"
   ]
  },
  {
   "cell_type": "code",
   "execution_count": 15,
   "metadata": {},
   "outputs": [
    {
     "name": "stdout",
     "output_type": "stream",
     "text": [
      "Name of the Player: Ronaldo\n",
      "Jersey Number of player: 9\n",
      "Position of player: Striker\n",
      "===========================\n",
      "Name of the player: Neuer\n",
      "Jersey Number of player: 1\n",
      "Position of player: Goal Keeper\n"
     ]
    }
   ],
   "source": [
    "class Player():\n",
    "    def __init__(self):\n",
    "        self.name = \"\"\n",
    "        self.jersy_number = 0\n",
    "        self.position = \"\"\n",
    "\n",
    "player1 = Player()\n",
    "player1.name = \"Ronaldo\"\n",
    "player1.jersy_number = 9\n",
    "player1.position = \"Striker\"\n",
    "print(\"Name of the Player:\", player1.name)\n",
    "print(\"Jersey Number of player:\", player1.jersy_number)\n",
    "print(\"Position of player:\", player1.position)\n",
    "print(\"===========================\")\n",
    "player2 = Player()\n",
    "player2.name = \"Neuer\"\n",
    "player2.jersy_number = 1\n",
    "player2.position = \"Goal Keeper\"\n",
    "print(\"Name of the player:\", player2.name)\n",
    "print(\"Jersey Number of player:\", player2.jersy_number)\n",
    "print(\"Position of player:\", player2.position)"
   ]
  },
  {
   "cell_type": "code",
   "execution_count": 13,
   "metadata": {},
   "outputs": [
    {
     "name": "stdout",
     "output_type": "stream",
     "text": [
      "Name: Bangladesh\n",
      "Continent: Asia\n",
      "Capital: Dhaka\n",
      "Fifa Ranking: 187\n",
      "===================\n",
      "Name: Belgium\n",
      "Continent: Europe\n",
      "Capital: Brussels\n",
      "Fifa Ranking: 1\n"
     ]
    }
   ],
   "source": [
    "class Country():\n",
    "    def __init__(self):\n",
    "        self.name = \"\"\n",
    "        self.continent = \"\"\n",
    "        self.capital = \"\"\n",
    "        self.fifa_ranking = \"\"\n",
    "    \n",
    "country = Country()\n",
    "country.name = \"Bangladesh\"\n",
    "country.continent = \"Asia\"\n",
    "country.capital = \"Dhaka\"\n",
    "country.fifa_ranking = 187\n",
    "print('Name:',country.name)\n",
    "print('Continent:',country.continent)\n",
    "print('Capital:',country.capital)\n",
    "print('Fifa Ranking:',country.fifa_ranking)\n",
    "print('===================')\n",
    "country.name = \"Belgium\"\n",
    "country.continent = \"Europe\"\n",
    "country.capital = \"Brussels\"\n",
    "country.fifa_ranking = 1\n",
    "print('Name:',country.name)\n",
    "print('Continent:',country.continent)\n",
    "print('Capital:',country.capital)\n",
    "print('Fifa Ranking:',country.fifa_ranking)\n"
   ]
  },
  {
   "cell_type": "code",
   "execution_count": 11,
   "metadata": {},
   "outputs": [
    {
     "name": "stdout",
     "output_type": "stream",
     "text": [
      "Name: Tanjiro\n",
      "Fighting Style: Water Breathing\n",
      "Knows 10 technique(s) and has killed 10 demon(s)\n",
      "===================\n",
      "Name: Zenitsu\n",
      "Fighting Style: Thunder Breathing\n",
      "Knows 1 technique(s) and has killed 4 demon(s)\n",
      "===================\n",
      "Name: Inosuke\n",
      "Fighting Style: Beast Breathing\n",
      "Knows 5 technique(s) and has killed 7 demon(s)\n",
      "===================\n",
      "Tanjiro, Zenitsu, Inosuke knows total 16 techniques\n",
      "They have killed total 21 demons\n"
     ]
    }
   ],
   "source": [
    "class DemonSlayer():\n",
    "    def __init__(self,name,style,number_of_technique,kill):\n",
    "        self.name = name\n",
    "        self.style = style\n",
    "        self.number_of_technique = number_of_technique\n",
    "        self.kill = kill\n",
    "\n",
    "tanjiro = DemonSlayer(\"Tanjiro\", \"Water Breathing\", 10, 10)\n",
    "print('Name:',tanjiro.name)\n",
    "print('Fighting Style:',tanjiro.style)\n",
    "print(f'Knows {tanjiro.number_of_technique} technique(s) and has killed {tanjiro.kill} demon(s)')\n",
    "print('===================')\n",
    "zenitsu = DemonSlayer(\"Zenitsu\", \"Thunder Breathing\", 1, 4)\n",
    "print('Name:',zenitsu.name)\n",
    "print('Fighting Style:',zenitsu.style)\n",
    "print(f'Knows {zenitsu.number_of_technique} technique(s) and has killed {zenitsu.kill} demon(s)')\n",
    "print('===================')\n",
    "inosuke = DemonSlayer(\"Inosuke\", \"Beast Breathing\", 5, 7)\n",
    "print('Name:',inosuke.name)\n",
    "print('Fighting Style:',inosuke.style)\n",
    "print(f'Knows {inosuke.number_of_technique} technique(s) and has killed {inosuke.kill} demon(s)')\n",
    "print('===================')\n",
    "print(f'{tanjiro.name}, {zenitsu.name}, {inosuke.name} knows total {tanjiro.number_of_technique + zenitsu.number_of_technique + inosuke.number_of_technique} techniques')\n",
    "print(f'They have killed total {tanjiro.kill + zenitsu.kill + inosuke.kill} demons')"
   ]
  },
  {
   "cell_type": "code",
   "execution_count": null,
   "metadata": {},
   "outputs": [],
   "source": []
  }
 ],
 "metadata": {
  "kernelspec": {
   "display_name": "Python 3",
   "language": "python",
   "name": "python3"
  },
  "language_info": {
   "codemirror_mode": {
    "name": "ipython",
    "version": 3
   },
   "file_extension": ".py",
   "mimetype": "text/x-python",
   "name": "python",
   "nbconvert_exporter": "python",
   "pygments_lexer": "ipython3",
   "version": "3.8.3"
  }
 },
 "nbformat": 4,
 "nbformat_minor": 4
}
