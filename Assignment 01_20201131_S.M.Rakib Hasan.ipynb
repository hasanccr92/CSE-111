{
 "cells": [
  {
   "cell_type": "code",
   "execution_count": 1,
   "metadata": {},
   "outputs": [
    {
     "name": "stdout",
     "output_type": "stream",
     "text": [
      "Enter the string:HOusE\n",
      "HOUSE\n"
     ]
    }
   ],
   "source": [
    "'''STRING\n",
    "1. From a given string, print the string in all uppercase if the number of uppercase\n",
    "letters is more than lowercase letters. Otherwise, if lowercase is greater or equal\n",
    "to uppercase letters, print all lowercase. The inputs will contain letters (A-Z, a-z)\n",
    "only.\n",
    "Sample Input Sample Output\n",
    "HOusE HOUSE\n",
    "ApplE apple\n",
    "BaNaNa banana\n",
    "'''\n",
    "\n",
    "word=input(\"Enter the string:\")\n",
    "\n",
    "upcount = 0\n",
    "lowcount = 0\n",
    "\n",
    "for i in word:\n",
    "    if i.islower():\n",
    "        lowcount += 1\n",
    "    #print(lowcount)\n",
    "\n",
    "for j in word:\n",
    "    if j.isupper():\n",
    "        upcount += 1\n",
    "    #print(upcount)\n",
    "if upcount > lowcount:\n",
    "    newword = word.upper()\n",
    "else:\n",
    "    newword = word.lower()\n",
    "print(newword)"
   ]
  },
  {
   "cell_type": "code",
   "execution_count": 1,
   "metadata": {},
   "outputs": [
    {
     "name": "stdout",
     "output_type": "stream",
     "text": [
      "Enter the string:gb6yv\n",
      "MIXED\n"
     ]
    }
   ],
   "source": [
    "'''2. Given a string, print whether it is a number, word or mixed with digit and letters.\n",
    "If all the characters are numeric values, print NUMBER. If they are all letters, print\n",
    "WORD. If it is mixed, print MIXED.\n",
    "Sample Input Sample Output\n",
    "213213 NUMBER\n",
    "jhg231j213 MIXED\n",
    "Hello WORD\n",
    "'''\n",
    "s=input(\"Enter the string:\")\n",
    "m=[]\n",
    "n=[]\n",
    "for i in s:\n",
    "    if i.isnumeric():\n",
    "        m.append(i)\n",
    "    elif i.isalpha():\n",
    "        n.append(i)\n",
    "if len(m)>0 and len(n)>0:\n",
    "    print(\"MIXED\")\n",
    "elif len(m)>0:\n",
    "    print(\"NUMBER\")\n",
    "elif len(n)>0:\n",
    "    print(\"WORD\")\n",
    "else:\n",
    "    print(\"Neither word nor number\")"
   ]
  },
  {
   "cell_type": "code",
   "execution_count": 2,
   "metadata": {},
   "outputs": [
    {
     "name": "stdout",
     "output_type": "stream",
     "text": [
      "Enter the string:baNgladEsh\n",
      "glad\n"
     ]
    }
   ],
   "source": [
    "'''3. In a given string, there will be two uppercase letters in between some lowercase\n",
    "letters. Print the substring from the first uppercase letter to the last uppercase letter\n",
    "excluding them. If there are no letters in between them, print the word BLANK. It\n",
    "is guaranteed that there will be only two uppercase letters in the string.\n",
    "Sample Input Sample Output\n",
    "baNgladEsh glad\n",
    "coDIng BLANK'''\n",
    "\n",
    "word = input(\"Enter the string:\")\n",
    "i = 0\n",
    "k = 0\n",
    "upp = word[0]\n",
    "for j in range(len(word)):\n",
    "    if word[j].isupper():\n",
    "        i=j\n",
    "        #print(word[j+1])\n",
    "        #print(j+1)\n",
    "        break\n",
    "for l in word[::-1]:\n",
    "    if l.isupper():\n",
    "        k = word.index(l)\n",
    "        break\n",
    "        #print(k)\n",
    "print(word[(j+1):k])\n",
    "if (len(word[(j+1):k]))==0:\n",
    "    print(\"BLANK\")\n",
    "\n",
    "\n"
   ]
  },
  {
   "cell_type": "code",
   "execution_count": 3,
   "metadata": {},
   "outputs": [
    {
     "name": "stdout",
     "output_type": "stream",
     "text": [
      "Enter the string:The book is not too good!\n",
      "The book is not excellent!\n"
     ]
    }
   ],
   "source": [
    "'''4. Write a Python program to find the first appearance of the substring 'too' and 'good' from a given string. \n",
    "If 'good' follows the 'too', replace the whole 'too'' good' substring with 'excellent' and print the resulting string. If the above does not appear, print the string as it is.\n",
    "Sample Input\n",
    "The book is not too good!\n",
    "This book is good too!\n",
    "Sample Output\n",
    "The book is not excellent!\n",
    "This book is good too!'''\n",
    "\n",
    "str1 = input(\"Enter the string:\")\n",
    "if \"too good\" in str1:\n",
    "    str1 = str1.replace(\"too good\",\"excellent\")\n",
    "print(str1)\n",
    "\n",
    "#str1 = input(\"Enter the string:\")\n",
    "#v=list(str1.split(\" \"))\n",
    "\n",
    "#if 'good' in v[-1]:\n",
    " #   if 'too' in v[-2]:\n",
    "  #      v.pop(-2)\n",
    "   #     v.pop(-1)\n",
    "    #    v.append(\"excellent\")\n",
    "#str2 = ' '.join([str(n) for n in v])\n",
    "#print(str2)\"\"\"\n",
    "    \n",
    "    \n",
    "    "
   ]
  },
  {
   "cell_type": "code",
   "execution_count": 5,
   "metadata": {},
   "outputs": [
    {
     "name": "stdout",
     "output_type": "stream",
     "text": [
      "Enter first string:dean\n",
      "Enter second string:ton\n",
      "nn"
     ]
    }
   ],
   "source": [
    "'''5. Create a string from two given strings by concatenating common characters of the given strings.\n",
    "Sample Input\n",
    "Sample Output\n",
    "harry, hermione\n",
    "hrrhr\n",
    "dean, tom\n",
    "Nothing in common.'''\n",
    "out = ''\n",
    "out2 = ''\n",
    "str1 = input(\"Enter first string:\")\n",
    "str2 = input(\"Enter second string:\")\n",
    "for i in str1:\n",
    "    if i in str2:\n",
    "        out = i\n",
    "        print(out,end=\"\")\n",
    "for j in str2:\n",
    "    if j in str1:\n",
    "        out2 = j\n",
    "        print(out2,end=\"\")\n",
    "if len(out) ==0 and len(out2)==0:\n",
    "    print(\"Nothing in common.\")\n",
    "\n",
    "    "
   ]
  },
  {
   "cell_type": "code",
   "execution_count": 2,
   "metadata": {},
   "outputs": [
    {
     "name": "stdout",
     "output_type": "stream",
     "text": [
      "Enter the password:ohmyBrac@\n",
      "Digit missing."
     ]
    }
   ],
   "source": [
    "'''6. Again, you have lost your USIS password!! You went to the registrar office and requested for a new password\n",
    ". This time, you need to follow some rules to set your password. Otherwise, they won't change it. The rules are\n",
    "At least one lowercase letter At least one uppercase letter At least one digit (0-9)\n",
    "At least one special character (_ , $ , #, @)\n",
    "Your task is to find whether a given password follows all those rules. If it breaks any rule, you have to print Lowercase Missing, Uppercase Missing, Digit Missing or Special Missing respective to the missing case. For more than one rule break, print all the rules that were broken (order doesn't matter). If the password is ok, print OK.\n",
    "Sample Input ohMyBR@CU ohmybracu OhMyBR@CU20\n",
    "Sample Output\n",
    "Digit missing\n",
    "Uppercase character missing, Digit missing, Special character missing\n",
    "OK'''\n",
    "\n",
    "\n",
    "pas = input(\"Enter the password:\")\n",
    "lower = 0\n",
    "upper = 0\n",
    "num = 0\n",
    "splchr = 0\n",
    "for i in pas:\n",
    "    if (64<ord(i)<91):\n",
    "        upper +=1\n",
    "    if (96<ord(i)<123):\n",
    "        lower +=1\n",
    "    if (47 <ord(i)<58):\n",
    "        num +=1\n",
    "    if (i==\"@\" or i==\"#\" or i==\"_\" or i==\"$\"):\n",
    "        splchr +=1\n",
    "if (upper == 0):\n",
    "    print(\"Uppercase character missing.\",end = \"\")\n",
    "if (lower == 0):\n",
    "    print(\"Lowercase character missing.\",end = \"\")\n",
    "if (num == 0):\n",
    "    print(\"Digit missing.\",end = \"\")\n",
    "if (splchr == 0):\n",
    "    print(\"Special character missing\",end = \"\")\n",
    "if (upper>0 and lower>0 and num>0 and splchr>0):\n",
    "    print(\"OK\")"
   ]
  },
  {
   "cell_type": "code",
   "execution_count": 3,
   "metadata": {},
   "outputs": [
    {
     "name": "stdout",
     "output_type": "stream",
     "text": [
      "Enter the number:1\n",
      "Enter the number:2\n",
      "Enter the number:3\n",
      "Enter the number:1\n",
      "Enter the number:2\n",
      "Enter the number:4\n",
      "Enter the number:5\n",
      "Enter the number:1\n",
      "Enter the number:3\n",
      "Enter the number:4\n",
      "Enter the number:7\n",
      "Enter the number:8\n",
      "Enter the number:9\n",
      "Enter the number:stop\n",
      "1 - 3 times\n",
      "2 - 2 times\n",
      "3 - 2 times\n",
      "1 - 3 times\n",
      "2 - 2 times\n",
      "4 - 2 times\n",
      "5 - 1 times\n",
      "1 - 3 times\n",
      "3 - 2 times\n",
      "4 - 2 times\n",
      "7 - 1 times\n",
      "8 - 1 times\n",
      "9 - 1 times\n"
     ]
    }
   ],
   "source": [
    "'''LIST\n",
    "1. Write a python program which prints the frequency of the numbers that were given as input by the user. \n",
    "Stop taking input when you find the string “STOP”. Do not print the frequency of numbers that were not given as input.\n",
    "Sample Input\n",
    "10\n",
    "20\n",
    "20\n",
    "30\n",
    "10\n",
    "50\n",
    "90\n",
    "STOP\n",
    "Sample Output\n",
    "10 - 2 times\n",
    "20 - 2 times\n",
    "30 - 1 times\n",
    "50 - 1 times\n",
    "90 - 1 times\n",
    "\n",
    "'''\n",
    "list1 = []\n",
    "while True:\n",
    "    n = input(\"Enter the number:\")\n",
    "    if n.upper() == \"STOP\":\n",
    "        break\n",
    "   \n",
    "    list1.append(n)\n",
    "#print(list1)\n",
    "\n",
    "for i in list1:\n",
    "    print(i,\"-\",list1.count(i),\"times\")\n",
    "\n",
    "    "
   ]
  },
  {
   "cell_type": "code",
   "execution_count": 11,
   "metadata": {},
   "outputs": [
    {
     "name": "stdout",
     "output_type": "stream",
     "text": [
      "Enter number of lists:2\n",
      "Enter list elements1 2\n",
      "Enter list elements3 4\n",
      "7\n",
      "[3, 4]\n"
     ]
    }
   ],
   "source": [
    "'''Write a python program that calculates the sum of N given lists and prints the highest sum and its respective list. \n",
    "Input starts with N and followed by N lists.\n",
    "Sample Input\n",
    "4\n",
    "1 2 3\n",
    "4 5 6\n",
    "10 11 12\n",
    "7 8 9\n",
    "Sample Output\n",
    "33\n",
    "[10, 11, 12]'''\n",
    "\n",
    "    \n",
    "        \n",
    "N = int(input(\"Enter number of lists:\"))    \n",
    "lst = []\n",
    "list1 = []\n",
    "for i in range(N):\n",
    "    elm = input(\"Enter list elements\").split()\n",
    "    for j in range(len(elm)):\n",
    "        elm[j] = int(elm[j])\n",
    "    list1.append(elm)\n",
    "    total = 0\n",
    "    for i in elm:\n",
    "        total +=i\n",
    "    lst.append(total)\n",
    "maxx = lst[0]\n",
    "for i in lst:\n",
    "    if i>maxx:\n",
    "        maxx = i\n",
    "print(maxx)\n",
    "p1 = lst.index(maxx)\n",
    "p2 = list1[p1]\n",
    "print(p2)"
   ]
  },
  {
   "cell_type": "code",
   "execution_count": 4,
   "metadata": {},
   "outputs": [
    {
     "name": "stdout",
     "output_type": "stream",
     "text": [
      "[6, 8, 10, 9, 12, 15, 18, 24, 30]\n"
     ]
    }
   ],
   "source": [
    "'''3. Write a python program that prints a list which contains cross multiplication between two given lists.\n",
    "Sample Input\n",
    "2 3 6\n",
    "3 4 5\n",
    "Sample Output\n",
    "[6, 8, 10, 9, 12, 15, 18, 24, 30]'''\n",
    "\n",
    "\n",
    "#Enter your lists here:\n",
    "list1 = [2, 3, 6]\n",
    "list2 = [3, 4, 5]\n",
    "\n",
    "\n",
    "list3=[]\n",
    "for k in list1:\n",
    "    for i in list2:\n",
    "        list3.append(k*i)\n",
    "print(list3)\n",
    "\n",
    "#k = 0\n",
    "#while k < len(list1):\n",
    " #   i = 0\n",
    "  #  while i < len(list2):\n",
    "   #     print((list1[k])*(list2[i]),end = \", \")\n",
    "    #    i = i+1\n",
    "    #k = k+1\n",
    "    "
   ]
  },
  {
   "cell_type": "code",
   "execution_count": 1,
   "metadata": {},
   "outputs": [
    {
     "name": "stdout",
     "output_type": "stream",
     "text": [
      "1 4 2 -1 6\n",
      "stop\n",
      "Not UB Jumper\n"
     ]
    }
   ],
   "source": [
    "'''4. Let there are N numbers in a list and that list is said to be a UB Jumper if the absolute values\n",
    "of the difference between the successive elements take on all the values 1 through N − 1. \n",
    "For example, 2 1 4 6 10 is a UB Jumper because\n",
    "the absolute differences between them are 1 3 2 4 which is all numbers from 1 to (5 - 1) or 4.\n",
    "Write a python program that takes a number sequence as input and prints whether it is a UB Jumper or Not UB Jumper. \n",
    "Input will stop after getting “STOP” as input.\n",
    "(Number order or absolute difference order doesn’t follow any sequence.)\n",
    "Sample Input\n",
    "1 4 2 3\n",
    "2 1 4 6 10\n",
    "1 4 2 -1 6\n",
    "STOP\n",
    "Sample Output\n",
    "UB Jumper UB Jumper\n",
    "Not UB Jumper'''\n",
    "\n",
    "list1 = []\n",
    "while True:\n",
    "    n = input()\n",
    "    if n.upper()==\"STOP\":\n",
    "        break\n",
    "    else:\n",
    "        list1.append(n.split())\n",
    "\n",
    "for i in range(len(list1)):\n",
    "    ub = []\n",
    "    ub2 = []\n",
    "    n = list1[i]\n",
    "    for j in range(len(list1[i])):\n",
    "        if j == len(list1[i])-1:\n",
    "            break\n",
    "        else:\n",
    "            ub.append(abs(int(n[j + 1]) - int(n[j])))\n",
    "    for j in range(1,len(list1[i])):\n",
    "        ub2.append(j)\n",
    "    flag = \"True\"\n",
    "    for j in ub2:\n",
    "        if j not in ub:\n",
    "            flag = \"False\"\n",
    "    if flag==\"True\":\n",
    "        print(\"UB Jumper\")\n",
    "    elif flag==\"False\":\n",
    "        print(\"Not UB Jumper\")\n",
    "        "
   ]
  },
  {
   "cell_type": "code",
   "execution_count": 15,
   "metadata": {},
   "outputs": [
    {
     "name": "stdout",
     "output_type": "stream",
     "text": [
      "Enter the string:Bracu1234\n",
      "acruB1324\n"
     ]
    }
   ],
   "source": [
    "'''5. You are given a string that contains alphanumeric characters only. Your task is to sort the string in the following manner:\n",
    "a. All sorted lowercase letters are ahead of uppercase letters.\n",
    "b. All sorted uppercase letters are ahead of digits.\n",
    "c. All sorted odd digits are ahead of sorted even digits.\n",
    "Sample Input\n",
    "Bracu1234\n",
    "Sample Output\n",
    "acruB1324'''\n",
    "str1 = input(\"Enter the string:\")\n",
    "caplist = []\n",
    "smlist = []\n",
    "numlist = []\n",
    "oddlist = []\n",
    "evenlist = []\n",
    "for i in str1:\n",
    "    if i.isupper():\n",
    "        caplist.append(i)\n",
    "for j in str1:\n",
    "    if j.islower():\n",
    "        smlist.append(j)\n",
    "for k in str1:\n",
    "    if k.isnumeric():\n",
    "        numlist.append(k)\n",
    "#print(numlist)\n",
    "numlist = ([int(i) for i in numlist])\n",
    "for l in numlist:\n",
    "    if ((l%2)==1):\n",
    "        oddlist.append(l)\n",
    "    else:\n",
    "        evenlist.append(l)\n",
    "caplist.sort()\n",
    "smlist.sort()\n",
    "evenlist.sort()\n",
    "oddlist.sort()\n",
    "s = smlist+caplist+oddlist+evenlist\n",
    "#print(s)\n",
    "final = ''.join([str(n) for n in s])\n",
    "print(final)  "
   ]
  },
  {
   "cell_type": "code",
   "execution_count": 9,
   "metadata": {},
   "outputs": [
    {
     "name": "stdout",
     "output_type": "stream",
     "text": [
      "6\n",
      "5\n",
      "0\n",
      "0\n",
      "0\n",
      "0\n",
      "0\n",
      "0\n",
      "Number of teams: 2\n"
     ]
    }
   ],
   "source": [
    "'''6. BRACU has n students who are regular competitive programmers. According to the ACM ICPC rules, each person can participate in the regional championship at most 5 times.\n",
    "The head of the BRACU ACM Chapter is recently gathering teams to participate in this championship. \n",
    "Each team must consist of exactly three people, at that, any person cannot be a member of two or more teams. \n",
    "What maximum number of teams can the head make if he wants each team to participate in the world championship with the same members at least k times?\n",
    "The first line of input contains two integers, n and k. The next line contains n integers:\n",
    "y1, y2, ..., yn (0 ≤ yi ≤ 5), where yi shows the number of times the i-th person participated in the ACM ICPC Regional .\n",
    "Write a python program that prints how many teams can be formed according to the above problem statement.\n",
    "Sample Input 1\n",
    "5 2\n",
    "0 4 5 1 0\n",
    "Sample Input 2\n",
    "6 4\n",
    "0 1 2 3 4 5\n",
    "Sample Input 3\n",
    "6 5\n",
    "0 0 0 0 0 0\n",
    "Sample Output 1\n",
    "1\n",
    "Sample Output 2\n",
    "0\n",
    "Sample Output 3\n",
    "2'''\n",
    "n = int(input())\n",
    "k = int(input())\n",
    "reg = 5\n",
    "list1 = []\n",
    "for i in range(n):\n",
    "    if n<3:\n",
    "        break\n",
    "    else:\n",
    "        i = int(input())\n",
    "        if (i<5) and (reg-i>=k):\n",
    "            list1.append(i)\n",
    "#print(list1)\n",
    "size = len(list1)\n",
    "team = size//3\n",
    "print(\"Number of teams:\", team)\n"
   ]
  },
  {
   "cell_type": "code",
   "execution_count": 16,
   "metadata": {},
   "outputs": [
    {
     "name": "stdout",
     "output_type": "stream",
     "text": [
      "{'a': 400, 'b': 300, 'c': 200, 'd': 700, 'e': 200}\n",
      "(200, 300, 400, 700)\n"
     ]
    }
   ],
   "source": [
    "'''Dictionary & Tuple\n",
    "1. Write a Python program to combine two dictionaries into one by adding values for common keys. Input contains two comma separated dictionaries. Print the new dictionary and create a tuple which contains unique values in sorted order.\n",
    "Sample Input\n",
    "a: 100, b: 100, c: 200, d: 300\n",
    "a: 300, b: 200, d: 400, e: 200\n",
    "Sample Output\n",
    "{'a': 400, 'b': 300, 'c': 200,'d': 700, 'e': 200}\n",
    "Values: (200, 300, 400, 700)'''\n",
    "\n",
    "#Enter the dictionaries here:\n",
    "dict1 = {'a': 100, 'b':100, 'c':200, 'd':300}\n",
    "dict2 = {'a': 300, 'b':200, 'd':400, 'e':200}\n",
    "dict3={}\n",
    "for key,value in dict1.items():\n",
    "    if key in dict2.keys():\n",
    "        dict3[key]=dict1[key]+dict2[key]\n",
    "    else:\n",
    "        dict3[key]=dict1[key]\n",
    "for key,value in dict2.items():\n",
    "    if key in dict1.keys():\n",
    "        dict3[key]=dict1[key]+dict2[key]\n",
    "    else:\n",
    "        dict3[key]=dict2[key]\n",
    "print(dict3)\n",
    "nvalues = dict3.values()\n",
    "nvalues = list(nvalues)\n",
    "nvalues.sort()\n",
    "#print(nvalues)\n",
    "n1 = []\n",
    "for i in nvalues:\n",
    "    if i not in n1:\n",
    "        n1.append(i)\n",
    "print(tuple((n1)))\n",
    "\n",
    "\n"
   ]
  },
  {
   "cell_type": "code",
   "execution_count": 18,
   "metadata": {},
   "outputs": [
    {
     "name": "stdout",
     "output_type": "stream",
     "text": [
      "Enter the number:10\n",
      "Enter the number:20\n",
      "Enter the number:20\n",
      "Enter the number:30\n",
      "Enter the number:10\n",
      "Enter the number:50\n",
      "Enter the number:90\n",
      "Enter the number:stop\n",
      "10  -  2 times\n",
      "20  -  2 times\n",
      "30  -  1 times\n",
      "50  -  1 times\n",
      "90  -  1 times\n"
     ]
    }
   ],
   "source": [
    "'''2. Write a python program which prints the frequency of the numbers that were given as input by the user. \n",
    "Stop taking input when you find the string “STOP”. \n",
    "Do not print the frequency of numbers that were not given as input. Use a dictionary to solve the problem\n",
    "Sample Input\n",
    "10\n",
    "20\n",
    "20\n",
    "30\n",
    "10\n",
    "50\n",
    "90\n",
    "STOP\n",
    "Sample Output\n",
    "10 - 2 times\n",
    "20 - 2 times\n",
    "30 - 1 times\n",
    "50 - 1 times\n",
    "90 - 1 times'''\n",
    "dict1 = {}\n",
    "while True:\n",
    "    n = input(\"Enter the number:\")\n",
    "    if n.upper() == \"STOP\":\n",
    "        break\n",
    "    if n in dict1:\n",
    "        dict1[n]+=1\n",
    "    else:\n",
    "        dict1.update({n:1})\n",
    "for key,value in dict1.items():\n",
    "    print(key,\" - \",value,\"times\")"
   ]
  },
  {
   "cell_type": "code",
   "execution_count": 2,
   "metadata": {},
   "outputs": [
    {
     "name": "stdout",
     "output_type": "stream",
     "text": [
      "Enter the no of dict items: 3\n",
      "Enter keys: k1\n",
      "Enter values:v1\n",
      "Enter keys: k2\n",
      "Enter values:v2\n",
      "Enter keys: k3\n",
      "Enter values:v1\n",
      "{'v1': ['k1', 'k3'], 'v2': ['k2']}"
     ]
    }
   ],
   "source": [
    "'''3. Write python code to invert a dictionary.\n",
    "It should print a dictionary where the keys are values from the input dictionary\n",
    "and the values are lists of keys from the input dictionary having the same value.\n",
    "Make sure the program handles multiple same values.\n",
    "Sample Input\n",
    "key1 : value1, key2 : value2, key3 : value1\n",
    "Sample Output\n",
    "{ \"value1\" : [\"key1\", \"key3\"], \"value2\" : [\"key2\"] }'''\n",
    "\n",
    "#Enter the dict here:\n",
    "dict1 = {}\n",
    "n = int(input(\"Enter the no of dict items: \"))\n",
    "for m in range(n):\n",
    "    i = input(\"Enter keys: \")\n",
    "    j = input(\"Enter values:\")\n",
    "    dict1.update({i:j})\n",
    "#print(dict1)\n",
    "revdict = {}\n",
    "for k,v in dict1.items():\n",
    "    if v not in revdict.keys():\n",
    "        key = [k]\n",
    "        for a,b in dict1.items():\n",
    "            if v==b and k!=a:\n",
    "                key.append(a)\n",
    "        revdict[v]=key\n",
    "print(revdict,end =\"\")"
   ]
  },
  {
   "cell_type": "code",
   "execution_count": 14,
   "metadata": {},
   "outputs": [
    {
     "name": "stdout",
     "output_type": "stream",
     "text": [
      "Enter first sring:evil\n",
      "Enter second string:live\n",
      "Those strings are anagrams\n"
     ]
    }
   ],
   "source": [
    "'''4. Two words are anagrams if they contain all of the same letters, but in a different order. For example, “evil” and “live” are anagrams because each contains one “e”, one “i”, one “l”, and one “v”.\n",
    "Write a program that reads two strings from the user and determines whether or not they are anagrams. Use a dictionary to solve the problem.\n",
    "Sample Input\n",
    "evil live\n",
    "Sample Output\n",
    "Those strings are anagrams'''\n",
    "str1 = input(\"Enter first sring:\")\n",
    "str2 = input(\"Enter second string:\")\n",
    "\n",
    "dict1 = {}\n",
    "dict2 = {}\n",
    "for i in str1:\n",
    "    k1 = dict1.keys()\n",
    "    if i in k1:\n",
    "        dict1[i] +=1\n",
    "    else:\n",
    "        dict1[i] = 1\n",
    "for j in str2:\n",
    "    k2 = dict2.keys()\n",
    "    if j in k2:\n",
    "        dict2[j] +=1\n",
    "    else:\n",
    "        dict2[j] = 1\n",
    "\n",
    "if dict1 == dict2:\n",
    "    print(\"Those strings are anagrams\")\n",
    "else:\n",
    "    print(\"Those string are not anagrams\")"
   ]
  },
  {
   "cell_type": "code",
   "execution_count": 16,
   "metadata": {},
   "outputs": [
    {
     "name": "stdout",
     "output_type": "stream",
     "text": [
      "Enter the word: Hello, World!\n",
      "4433555555666110966677755531111"
     ]
    }
   ],
   "source": [
    "'''5. On some basic cell phones, text messages can be sent using the numeric keypad. Because each key has multiple letters associated with it, multiple key presses are needed for most letters. Pressing the number once generates the first character listed for that key. Pressing the number 2, 3, 4 or 5 times generates the second, third, fourth or fifth character.\n",
    "Key\n",
    "Symbols\n",
    "1\n",
    ".,?!:\n",
    "2\n",
    "ABC\n",
    "3\n",
    "DEF\n",
    "4\n",
    "GHI\n",
    "5\n",
    "JKL\n",
    "6\n",
    "MNO\n",
    "7\n",
    "PQRS\n",
    "8\n",
    "TUV\n",
    "9\n",
    "WXYZ\n",
    "0\n",
    "Space\n",
    "Write a program that displays the key presses needed for a message entered by the user. \n",
    "Construct a dictionary that maps from each letter or symbol to the key presses needed to generate it.\n",
    "Then use the dictionary to create and display the presses needed for the user’s message.\n",
    "Sample Input\n",
    "Hello, World!\n",
    "Sample Output\n",
    "4433555555666110966677755531111'''\n",
    "\n",
    "str1 = input(\"Enter the word: \").upper()\n",
    "keydict = {\"1\":[\".\",\",\",\"?\",\"!\",\":\"],\"2\":[\"A\",\"B\",\"C\"],\"3\":[\"D\",\"E\",\"F\"],\"4\":[\"G\",\"H\",\"I\"],\"5\":[\"J\",\"K\",\"L\"],\"6\":[\"M\",\"N\",\"O\"],\"7\":[\"P\",\"Q\",\"R\",\"S\"],\"8\":[\"T\",\"U\",\"V\"],\"9\":[\"W\",\"X\",\"Y\",\"Z\"],\"0\":\" \"}\n",
    "for i in range(len(str1)):\n",
    "    for k,v in keydict.items():\n",
    "        if str1[i] in v:\n",
    "            print(k*(v.index(str1[i])+1),end=\"\")"
   ]
  },
  {
   "cell_type": "code",
   "execution_count": null,
   "metadata": {},
   "outputs": [],
   "source": []
  }
 ],
 "metadata": {
  "kernelspec": {
   "display_name": "Python 3",
   "language": "python",
   "name": "python3"
  },
  "language_info": {
   "codemirror_mode": {
    "name": "ipython",
    "version": 3
   },
   "file_extension": ".py",
   "mimetype": "text/x-python",
   "name": "python",
   "nbconvert_exporter": "python",
   "pygments_lexer": "ipython3",
   "version": "3.8.3"
  }
 },
 "nbformat": 4,
 "nbformat_minor": 4
}
