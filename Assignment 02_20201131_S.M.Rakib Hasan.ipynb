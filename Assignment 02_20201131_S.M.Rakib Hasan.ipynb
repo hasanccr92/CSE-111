{
 "cells": [
  {
   "cell_type": "code",
   "execution_count": 9,
   "metadata": {},
   "outputs": [
    {
     "name": "stdout",
     "output_type": "stream",
     "text": [
      "0.5\n"
     ]
    }
   ],
   "source": [
    "'''1. Write a function which will return the fraction part after dividing a number by another. \n",
    "The range should be within 0 and 1. \n",
    "Exception: Since dividing anything by 0 results in error so if the denominator is 0, the function will return 0 instead of attempting the division.\n",
    "Sample Input\n",
    "(5, 2)\n",
    "(5, 0)\n",
    "(0, 5)\n",
    "Sample Output\n",
    "0.5\n",
    "0\n",
    "0'''\n",
    "\n",
    "def divider(n1,n2):\n",
    "    if n1 !=0 and n2!=0:\n",
    "        abss = n1 // n2\n",
    "        remain = ((n1 / n2) - abss)\n",
    "        print(remain)\n",
    "    else:\n",
    "        print(\"0\")\n",
    "    return\n",
    "\n",
    "divider(5,2)\n",
    "\n"
   ]
  },
  {
   "cell_type": "code",
   "execution_count": 1,
   "metadata": {},
   "outputs": [
    {
     "name": "stdout",
     "output_type": "stream",
     "text": [
      "Enter the height in cm:175\n",
      "Enter the weight in kg:96\n",
      "Score is  31.346938775510203 .You are Obese\n"
     ]
    }
   ],
   "source": [
    "'''2. You are one of the gym instructors at AmiKenoMota. You decide to provide a customized diet and exercise plans \n",
    "based on the BMI of an individual. \n",
    "You measure the weight in kilograms and height in meters and calculate the BMI before a plan can be decided. \n",
    "Write a BMI function that takes in two values, weight in kg and height in cm and print the score along with the condition.\n",
    "(Make sure to convert cm into m before calculation)\n",
    "BMI(height, weight) 𝐵𝑀𝐼=𝑘𝑔/𝑚2\n",
    "Based on the BMI score return the following output.\n",
    "● < 18.5- Underweight\n",
    "● 18.5 - 24.9 - Normal\n",
    "● 25 -30 - Overweight\n",
    "● > 30 – Obese\n",
    "Sample Input\n",
    "(175, 96)\n",
    "(152, 48)\n",
    "Sample Output\n",
    "Score is 31.3. You are Obese Score is 20.8. You are Normal'''\n",
    "\n",
    "height = int(input(\"Enter the height in cm:\"))\n",
    "weight = int(input(\"Enter the weight in kg:\"))\n",
    "def BMI(height,weight):\n",
    "    \n",
    "    heightm = ((height/100)**2)\n",
    "    bmi = weight/heightm\n",
    "    if (bmi < 18.5):\n",
    "        print(\"Score is \",bmi,\".You are Underweight\")\n",
    "    elif (18.5 < bmi < 24.9):\n",
    "        print(\"Score is \",bmi,\".You are Normal\")\n",
    "    elif (25 < bmi < 30):\n",
    "        print(\"Score is \",bmi,\".You are Overweight\")\n",
    "    elif ( bmi > 30):\n",
    "        print(\"Score is \",bmi,\".You are Obese\")\n",
    "    return\n",
    "    \n",
    "BMI(height,weight)"
   ]
  },
  {
   "cell_type": "code",
   "execution_count": 7,
   "metadata": {},
   "outputs": [
    {
     "name": "stdout",
     "output_type": "stream",
     "text": [
      "Enter the minimum value:0\n",
      "Enter the maximum value:10\n",
      "Enter the divisor:2\n",
      "20\n"
     ]
    }
   ],
   "source": [
    "'''3. Write a function which will take 3 arguments minimum, maximum and divisor. \n",
    "You have to find all the numbers that are divisible by the divisor where \n",
    "minimum value is inclusive and maximum value is exclusive. Add all the numbers and return the value.\n",
    "Sample Output\n",
    "20\n",
    "45\n",
    "Sample Input\n",
    "(0, 10, 2)\n",
    "(3, 16, 3)'''\n",
    "\n",
    "mini = int(input(\"Enter the minimum value:\"))\n",
    "maxx = int(input(\"Enter the maximum value:\"))\n",
    "div = int(input(\"Enter the divisor:\"))\n",
    "\n",
    "def determiner(mini,maxx,div):\n",
    "    list1 = []\n",
    "    for i in range(mini,maxx,div):\n",
    "        list1.append(i)\n",
    "    summ = sum(list1)\n",
    "    print(summ)\n",
    "    return\n",
    "determiner(mini,maxx,div)\n",
    "    "
   ]
  },
  {
   "cell_type": "code",
   "execution_count": 6,
   "metadata": {},
   "outputs": [
    {
     "name": "stdout",
     "output_type": "stream",
     "text": [
      "Total cost: 459.6\n"
     ]
    }
   ],
   "source": [
    "'''4. You want to order Burger from Chillox through the FoodPanda App. You have to calculate the total price. \n",
    "Write a function which will take the name of the burger and place(Mohakhali/Outside of Mohakhali) as input. \n",
    "Use default argument technique for taking place input.\n",
    "Menu\n",
    "Price(Tk)\n",
    "BBQ Chicken Cheese Burger\n",
    "250\n",
    "Beef Burger\n",
    "170\n",
    "Naga Drums\n",
    "200\n",
    "Hint: Total Price = meal_cost + delivery_charge + tax Note that:\n",
    "● If your home is in Mohakhali area then your delivery charge is 40 taka else 60 taka\n",
    "● Your tax rate is 8% of your meal.\n",
    "Sample Input\n",
    "(‘Beef Burger’, ‘Dhanmondi’) (‘Beef Burger’)\n",
    "Sample Output\n",
    "243.6\n",
    "223.6'''\n",
    "\n",
    "def chillox(item,loc=\"Mohakhali\"):\n",
    "    price={\"BBQ Chicken Cheese Burger\":250,\"Beef Burger\":170,\"Naga Drums\":200}\n",
    "    money=0\n",
    "    for i in item:\n",
    "        money +=price[i]\n",
    "        money += (price[i]*.08)\n",
    "    if loc == \"Mohakhali\":\n",
    "        money +=40\n",
    "    else:\n",
    "        money +=60\n",
    "    return money\n",
    "    #print(money)\n",
    "\n",
    "print(\"Total cost:\",chillox([\"Beef Burger\",\"Naga Drums\"],\"Dhanmondi\"))"
   ]
  },
  {
   "cell_type": "code",
   "execution_count": 6,
   "metadata": {},
   "outputs": [
    {
     "name": "stdout",
     "output_type": "stream",
     "text": [
      "Changed: alice@sheba.xyz\n"
     ]
    }
   ],
   "source": [
    "'''5. A company named Sheba.xyz has recently moved from their old domain to a new domain. \n",
    "However, a lot of the company email addresses are still using the old one.\n",
    "Write a function in python that replaces this old domain with the new one in any outdated email addresses. \n",
    "Keep same if the email address contains the new domain. (Do not use builtin replace function)\n",
    "Firstly, define a “replace_domain” function which accepts three parameters\n",
    "*The email address to be checked\n",
    "*The new domain\n",
    "* The old domain (Use Default argument technique to handle this)\n",
    "Sample Input\n",
    "(‘alice@kaaj.com’, ‘sheba.xyz’, ‘kaaj.com’) (‘bob@sheba.xyz’, ‘sheba.xyz’)\n",
    "Sample Output Changed: alice@sheba.xyz Unchanged: bob@sheba.xyz'''\n",
    "\n",
    "def replace_domain(email,ndomain,odomain=\"kaaj.com\"):\n",
    "    if email.endswith(\"kaaj.com\"):\n",
    "        lst1 = email.split(\"@\")\n",
    "        #print(lst1)\n",
    "        lst1.remove(lst1[-1])\n",
    "        #print(lst1)\n",
    "        str0 = ''.join([str(n) for n in lst1])\n",
    "        str1 = ''.join([str(n) for n in ndomain])\n",
    "        print(\"Changed:\",str0+\"@\"+str1)\n",
    "    else:\n",
    "        print(\"Unchanged:\",email)\n",
    "    return\n",
    "\n",
    "\n",
    "replace_domain('alice@kaaj.com','sheba.xyz','kaaj.com')\n",
    "\n"
   ]
  },
  {
   "cell_type": "code",
   "execution_count": 17,
   "metadata": {},
   "outputs": [
    {
     "name": "stdout",
     "output_type": "stream",
     "text": [
      "Please enter your name: steve jobs\n",
      "Vowels: e,e,o\n",
      "Total number of vowels: 3\n"
     ]
    }
   ],
   "source": [
    "'''6. Write a function which takes only your full name as input and finds the total number of vowels in that input. \n",
    "Output every vowel and at the end output the total number of vowels found. \n",
    "If your name does not contain any vowel then your function should print “No vowels in the name!”.\n",
    "Sample Input (Steve Jobs) (XYZ)\n",
    "Sample Output\n",
    "Vowels: e, e, o. Total number of vowels: 3 No vowels in the name'''\n",
    "\n",
    "def vcounter():\n",
    "\n",
    "    str0 = input(\"Please enter your name: \")\n",
    "    str1 = str0.lower()\n",
    "    vowels = \"aeiou\"\n",
    "    counter = 0\n",
    "    list1 = []\n",
    "    for i in str1:\n",
    "        if i in vowels:\n",
    "            counter +=1\n",
    "            list1.append(i)\n",
    "\n",
    "    if counter ==0:\n",
    "        print(\"No vowels in the name.\")\n",
    "    else:\n",
    "        print(\"Vowels:\",','.join([str(n) for n in list1]))\n",
    "        print('Total number of vowels:', counter)\n",
    "    return\n",
    "vcounter()"
   ]
  },
  {
   "cell_type": "code",
   "execution_count": 12,
   "metadata": {},
   "outputs": [
    {
     "name": "stdout",
     "output_type": "stream",
     "text": [
      "Enter the string:nurses run\n",
      "Palindrome\n"
     ]
    }
   ],
   "source": [
    "'''7. Write a program which checks whether a given string is a palindrome or not.\n",
    "Note: A palindrome is a word, phrase, or sequence that reads the same backward as forward. \n",
    "For palindrome, any spaces in middle are not considered and should be trimmed.\n",
    "Sample Input\n",
    "‘madam’ ‘hello’ ‘nurses run’\n",
    "Sample Output\n",
    "Palindrome\n",
    "Not a palindrome Palindrome'''\n",
    "\n",
    "def palindrome():\n",
    "\n",
    "    n1 = input(\"Enter the string:\")\n",
    "    n = n1.lower()\n",
    "    listn = (n.split())\n",
    "\n",
    "    wless = (\"\".join([str(i) for i in listn]))\n",
    "    revstr = wless[::-1]\n",
    "    #print(revstr)\n",
    "    if wless == revstr:\n",
    "        print(\"Palindrome\")\n",
    "    else:\n",
    "        print(\"Not a palindrome\")\n",
    "    return\n",
    "\n",
    "palindrome()\n"
   ]
  },
  {
   "cell_type": "code",
   "execution_count": 2,
   "metadata": {},
   "outputs": [
    {
     "name": "stdout",
     "output_type": "stream",
     "text": [
      "Enter the number of days: 4000\n",
      "10  years  11  months  20  days\n"
     ]
    }
   ],
   "source": [
    "'''8. Write a function which takes a number of days as input and prints total number of years, number of months and remaining number of days as output.\n",
    "Sample Input\n",
    "(4320)\n",
    "(4000)\n",
    "Sample Output\n",
    "11 years, 10 months and 5 days\n",
    "10 years, 11 months and 20 days'''\n",
    "\n",
    "def yrcounter():\n",
    "    daysin = int(input(\"Enter the number of days: \"))\n",
    "    year = (daysin//365)\n",
    "    remday1 = (daysin-(year*365))\n",
    "    mnth = (remday1//30)\n",
    "    days = (remday1-(mnth*30))\n",
    "    print(year,\" years \",mnth,\" months \",days,\" days\")\n",
    "    return\n",
    "yrcounter()"
   ]
  },
  {
   "cell_type": "code",
   "execution_count": 18,
   "metadata": {},
   "outputs": [
    {
     "name": "stdout",
     "output_type": "stream",
     "text": [
      "My favourite animal is a dog. A dog has sharp teeth so that it can eat flesh very easily. Do you know my pet dog’s name? I love my pet very much.\n"
     ]
    }
   ],
   "source": [
    "'''\n",
    "9. You are a class teacher at a kindergarten school. As a task, you asked your students to write a paragraph.\n",
    "Unfortunately, you notice that most of the students did not use capital letters correctly.\n",
    "Your task is to write a function which takes a string as its only parameter and returns a new copy of the string \n",
    "that has been correctly capitalized. Your function should:\n",
    "● Capitalize the first letter in the string\n",
    "● Capitalize the first letter after a full-stop, exclamation mark or question mark\n",
    "● Capitalize the word “i” if it is in lowercase.\n",
    "Summary: You have to write a function that reads a string from the user and capitalizes. The string is then returned and displayed.\n",
    "Sample Input\n",
    "('my favourite animal is a dog. a dog has sharp teeth so that it can eat flesh very easily. do you know my pet dog’s name? i love my pet very much.')\n",
    "Sample Output\n",
    "My favourite animal is a dog. A dog has sharp teeth so that it can eat flesh very easily. Do you know my pet dog’s name? I love my pet very much.'''\n",
    "\n",
    "\n",
    "def grammer(string):\n",
    "    str1 = string.capitalize()\n",
    "\n",
    "    str2 = str1.replace(\" i \", \" I \")\n",
    "\n",
    "    list1 = []\n",
    "    for i in str2:\n",
    "        list1.append(i)\n",
    "    #print(list1)\n",
    "    str3 = str2.upper()\n",
    "    list2 = []\n",
    "    for j in str3:\n",
    "        list2.append(j)\n",
    "    #print(list2)\n",
    "    for i in range(len(list1) - 1) and range(len(list2) - 1):\n",
    "        if list1[i] == \".\" or list1[i] == \"!\" or list1[i] == \"?\":\n",
    "            list1[i + 2] = list2[i + 2]\n",
    "    s = \"\"\n",
    "    print(\"\".join([str(n) for n in list1]))\n",
    "    return\n",
    "\n",
    "\n",
    "grammer('my favourite animal is a dog. a dog has sharp teeth so that it can eat flesh very easily. do you know my pet dog’s name? i love my pet very much.')"
   ]
  },
  {
   "cell_type": "code",
   "execution_count": null,
   "metadata": {},
   "outputs": [],
   "source": []
  }
 ],
 "metadata": {
  "kernelspec": {
   "display_name": "Python 3",
   "language": "python",
   "name": "python3"
  },
  "language_info": {
   "codemirror_mode": {
    "name": "ipython",
    "version": 3
   },
   "file_extension": ".py",
   "mimetype": "text/x-python",
   "name": "python",
   "nbconvert_exporter": "python",
   "pygments_lexer": "ipython3",
   "version": "3.8.3"
  }
 },
 "nbformat": 4,
 "nbformat_minor": 4
}
